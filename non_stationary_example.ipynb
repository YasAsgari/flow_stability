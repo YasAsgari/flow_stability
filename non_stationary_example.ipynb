{
 "cells": [
  {
   "cell_type": "code",
   "execution_count": null,
   "metadata": {},
   "outputs": [],
   "source": [
    "from SynthTempNetwork import Individual, SynthTempNetwork\n",
    "from TemporalNetwork import ContTempNetwork\n",
    "from TemporalStability import FlowIntegralClustering\n",
    "import numpy as np\n",
    "import time\n",
    "import matplotlib.pyplot as plt"
   ]
  },
  {
   "cell_type": "markdown",
   "metadata": {},
   "source": [
    "# Example of non-stationary temporal network (Fig. 1)\n"
   ]
  },
  {
   "cell_type": "code",
   "execution_count": null,
   "metadata": {},
   "outputs": [],
   "source": [
    "inter_tau = 1\n",
    "activ_tau = 1\n",
    "t_start = 0\n",
    "n_groups = 3\n",
    "n_per_group = 9\n",
    "individuals = []\n",
    "\n",
    "\n",
    "m1=0.95\n",
    "p1=0.95\n",
    "deltat1 =120\n",
    "deltat2=40\n",
    "\n",
    "t_end = 3*deltat1+2*deltat2\n",
    "\n",
    "\n",
    "\n",
    "\n",
    "def make_step_block_probs(deltat1, deltat2, m1=1, p1=1):\n",
    "    \"\"\" Returns a function that generate the block probability matrix as a function of time.\n",
    "    \n",
    "        `deltat1` is the length of the within step\n",
    "    \n",
    "        `deltat2` is the length of the echanging step\n",
    "        \n",
    "        `m1` is the prob of self-interaction (during deltat1)\n",
    "        \n",
    "        `p1` is the prob of cross-interaction (during deltat2)\n",
    "    \"\"\"\n",
    "\n",
    "\n",
    "    def block_mod_func(t):\n",
    "        \n",
    "        m2 = (1-m1)/2\n",
    "        p2 = (1-p1)\n",
    "        \n",
    "        ex12 = np.array([[p2,p1,0],\n",
    "                         [p1,p2,0],\n",
    "                         [0,0,1]])\n",
    "        ex23 = np.array([[1,0,0],\n",
    "                         [0,p2,p1],\n",
    "                         [0,p1,p2]])\n",
    "        ex13 = np.array([[p2,0,p1],\n",
    "                         [0, 1, 0],\n",
    "                         [p1,0,p2]])\n",
    "    \n",
    "        I = np.array([[m1,m2,m2],\n",
    "                      [m2,m1,m2],\n",
    "                      [m2,m2,m1]])\n",
    "        if t>=0 and  t < deltat1:\n",
    "            return ex12\n",
    "        elif t>=deltat1 and t<deltat1+deltat2:\n",
    "            return I\n",
    "        elif t>=deltat1+deltat2 and t < 2*deltat1+deltat2:\n",
    "            return ex23\n",
    "        elif t>= 2*deltat1+deltat2 and t < 2*(deltat1+deltat2):\n",
    "            return I\n",
    "        elif t>= 2*(deltat1+deltat2) and t < 2*(deltat1+deltat2)+deltat1:\n",
    "            return ex13\n",
    "        else:\n",
    "            print('Warning : t must be >=0 and <= 3*deltat1+2*deltat2' +\\\n",
    "                  't is ', t)\n",
    "            return I\n",
    "        \n",
    "    return block_mod_func\n",
    " \n",
    "\n",
    "\n",
    "block_prob_mod_func = make_step_block_probs(deltat1,deltat2,m1,p1)\n"
   ]
  },
  {
   "cell_type": "code",
   "execution_count": null,
   "metadata": {},
   "outputs": [],
   "source": [
    "# create agents for the simlation\n",
    "for g in range(n_groups):\n",
    "\n",
    "    individuals.extend([Individual(i, inter_distro_scale=inter_tau,\n",
    "                                      activ_distro_scale=activ_tau,\n",
    "                                      group=g) for i in range(g*n_per_group,(g+1)*n_per_group)])"
   ]
  },
  {
   "cell_type": "code",
   "execution_count": null,
   "metadata": {},
   "outputs": [],
   "source": [
    "# run simulation\n",
    "sim = SynthTempNetwork(individuals=individuals, t_start=t_start, t_end=t_end,\n",
    "                       next_event_method='block_probs_mod',\n",
    "                       block_prob_mod_func=block_prob_mod_func)\n",
    "\n",
    "print('running simulation')\n",
    "t0 = time.time()\n",
    "sim.run(save_all_states=True, save_dt_states=True, verbose=False)\n",
    "print(f'done in {time.time()-t0:.2f}s')\n"
   ]
  },
  {
   "cell_type": "markdown",
   "metadata": {},
   "source": [
    "## Creating a continuous time temporal network"
   ]
  },
  {
   "cell_type": "code",
   "execution_count": null,
   "metadata": {},
   "outputs": [],
   "source": [
    "# creating a temporal network from the simulation's result\n",
    "net = ContTempNetwork(source_nodes=sim.indiv_sources,\n",
    "                      target_nodes=sim.indiv_targets,\n",
    "                      starting_times=sim.start_times,\n",
    "                      ending_times=sim.end_times,\n",
    "                      merge_overlapping_events=True)"
   ]
  },
  {
   "cell_type": "code",
   "execution_count": null,
   "metadata": {},
   "outputs": [],
   "source": [
    "# the events of the temporal network are saved in a pandas dataframe in net.events_table\n",
    "net.events_table"
   ]
  },
  {
   "cell_type": "code",
   "execution_count": null,
   "metadata": {},
   "outputs": [],
   "source": [
    "# all the event times (starts and ends) are saved in \n",
    "net.times"
   ]
  },
  {
   "cell_type": "code",
   "execution_count": null,
   "metadata": {},
   "outputs": [],
   "source": [
    "# Compute inter transition matrices. \n",
    "# lamda is random walk rate.\n",
    "# By default, the matrix exponention is computed using the version for dense matrices, \n",
    "# which is faster but only works for small networks. \n",
    "# To use the sparse implementation, set `dense_expm=False`\n",
    "\n",
    "lamda=1/10\n",
    "t0 = time.time()\n",
    "net.compute_inter_transition_matrices(lamda=lamda, verbose=True)\n",
    "print(f'done in {time.time()-t0:.2f}s')"
   ]
  },
  {
   "cell_type": "code",
   "execution_count": null,
   "metadata": {},
   "outputs": [],
   "source": [
    "# the matrices are saved in a list here\n",
    "net.inter_T[lamda]\n",
    "# where net.inter_T[lamda][k] is the probability transition matrix\n",
    "# between net.times[k] and net.times[k+1]"
   ]
  },
  {
   "cell_type": "code",
   "execution_count": null,
   "metadata": {},
   "outputs": [],
   "source": [
    "# the temporal network can be saved, togheter with the inter-event transition matrices in a pickle file:\n",
    "net.save('example_network')\n"
   ]
  },
  {
   "cell_type": "code",
   "execution_count": null,
   "metadata": {},
   "outputs": [],
   "source": [
    "# and can be loaded unsing `ContTempNetwork.load`\n",
    "net2 = ContTempNetwork.load('example_network')\n"
   ]
  },
  {
   "cell_type": "markdown",
   "metadata": {},
   "source": [
    "## Computing the covariance integral"
   ]
  },
  {
   "cell_type": "code",
   "execution_count": null,
   "metadata": {},
   "outputs": [],
   "source": [
    "# We can now compute the integral of the covariance using FlowIntegralClustering.\n",
    "# We need to give the inter-event transition matrices, the inter-event times and \n",
    "# a list of times until which to compute the integral is computed.\n",
    "\n",
    "integral_time_grid = np.linspace(0, t_end, 12, endpoint=True)\n",
    "\n",
    "I_forw = FlowIntegralClustering(T_inter_list=net.inter_T[lamda], \n",
    "                                time_list=net.times,\n",
    "                                integral_time_grid=integral_time_grid,\n",
    "                                verbose=True)"
   ]
  },
  {
   "cell_type": "code",
   "execution_count": null,
   "metadata": {},
   "outputs": [],
   "source": [
    "# The list of transition matrices are stored in \n",
    "I_forw.T_list\n",
    "# where I_forw.T_list[k] contains the transition matrix between net.times[0] and net.times[k+1]"
   ]
  },
  {
   "cell_type": "code",
   "execution_count": null,
   "metadata": {},
   "outputs": [],
   "source": [
    "# The autocovariance integrals are stored in \n",
    "I_forw.I_list\n",
    "# I_forw.I_list[k] contains the integral of the autocovariance \n",
    "# from I_forw._t_integral_grid[0] to I_forw._t_integral_grid[k+1]"
   ]
  },
  {
   "cell_type": "code",
   "execution_count": 217,
   "metadata": {},
   "outputs": [
    {
     "data": {
      "image/png": "[encoded data removed]",
      "text/plain": [
       "<Figure size 288x288 with 2 Axes>"
      ]
     },
     "metadata": {
      "needs_background": "light"
     },
     "output_type": "display_data"
    }
   ],
   "source": [
    "plt.matshow(I_forw.I_list[10].toarray())\n",
    "plt.colorbar()\n",
    "_ =  plt.title(f'Forward covariance integral from {I_forw.integral_time_grid[0]} to {I_forw.integral_time_grid[11]}')\n"
   ]
  },
  {
   "cell_type": "code",
   "execution_count": null,
   "metadata": {},
   "outputs": [],
   "source": [
    "# similarly, we can compute the backward covariance integral, by reversing time.\n",
    "I_back = FlowIntegralClustering(T_inter_list=net.inter_T[lamda], \n",
    "                                time_list=net.times,\n",
    "                                integral_time_grid=integral_time_grid,\n",
    "                                reverse_time=True,\n",
    "                                verbose=True)"
   ]
  },
  {
   "cell_type": "code",
   "execution_count": 218,
   "metadata": {},
   "outputs": [
    {
     "data": {
      "image/png": "[encoded data removed]",
      "text/plain": [
       "<Figure size 288x288 with 2 Axes>"
      ]
     },
     "metadata": {
      "needs_background": "light"
     },
     "output_type": "display_data"
    }
   ],
   "source": [
    "plt.matshow(I_back.I_list[10].toarray())\n",
    "plt.colorbar()\n",
    "_ = plt.title(f'Backward covariance integral from {I_back.integral_time_grid[0]} to {I_back.integral_time_grid[11]}')\n"
   ]
  },
  {
   "cell_type": "markdown",
   "metadata": {},
   "source": [
    "## Optimizing the flow stability to find the best partition"
   ]
  },
  {
   "cell_type": "code",
   "execution_count": null,
   "metadata": {},
   "outputs": [],
   "source": [
    "# we can now find the partition optimizing the flow stability, \n",
    "# i.e. best clustering the covariance integral, with the Louvain algorithm\n",
    "I_forw.find_louvain_clustering(k=10)"
   ]
  },
  {
   "cell_type": "code",
   "execution_count": null,
   "metadata": {},
   "outputs": [],
   "source": [
    "# the result is saved in \n",
    "I_forw.partition[10]\n",
    "# and is a `Partition` object "
   ]
  },
  {
   "cell_type": "code",
   "execution_count": 219,
   "metadata": {},
   "outputs": [
    {
     "data": {
      "text/plain": [
       "[{0, 1, 2, 3, 4, 5, 6, 7, 8, 9, 10, 11, 12, 13, 14, 15, 16, 17},\n",
       " {18, 19, 20, 21, 22, 23, 24, 25, 26}]"
      ]
     },
     "execution_count": 219,
     "metadata": {},
     "output_type": "execute_result"
    }
   ],
   "source": [
    "# the cluster list is stored in \n",
    "I_forw.partition[10].cluster_list"
   ]
  },
  {
   "cell_type": "code",
   "execution_count": null,
   "metadata": {},
   "outputs": [],
   "source": [
    "# a dictionary mapping node ids to cluster ids is also availiable\n",
    "I_forw.partition[10].node_to_cluster_dict"
   ]
  },
  {
   "cell_type": "code",
   "execution_count": null,
   "metadata": {
    "scrolled": true
   },
   "outputs": [],
   "source": [
    "# Similarly for the backward flow stability\n",
    "I_back.find_louvain_clustering(k=10)\n"
   ]
  },
  {
   "cell_type": "code",
   "execution_count": 221,
   "metadata": {},
   "outputs": [
    {
     "data": {
      "text/plain": [
       "[{9, 10, 11, 12, 13, 14, 15, 16, 17},\n",
       " {0, 1, 2, 3, 4, 5, 6, 7, 8, 18, 19, 20, 21, 22, 23, 24, 25, 26}]"
      ]
     },
     "execution_count": 221,
     "metadata": {},
     "output_type": "execute_result"
    }
   ],
   "source": [
    "I_back.partition[10].cluster_list"
   ]
  }
 ],
 "metadata": {
  "kernelspec": {
   "display_name": "Python 3",
   "language": "python",
   "name": "python3"
  },
  "language_info": {
   "codemirror_mode": {
    "name": "ipython",
    "version": 3
   },
   "file_extension": ".py",
   "mimetype": "text/x-python",
   "name": "python",
   "nbconvert_exporter": "python",
   "pygments_lexer": "ipython3",
   "version": "3.6.10"
  }
 },
 "nbformat": 4,
 "nbformat_minor": 2
}
